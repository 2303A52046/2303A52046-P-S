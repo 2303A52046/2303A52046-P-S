{
  "nbformat": 4,
  "nbformat_minor": 0,
  "metadata": {
    "colab": {
      "provenance": [],
      "authorship_tag": "ABX9TyM4nOXootjwwKfNHW3OCUX3",
      "include_colab_link": true
    },
    "kernelspec": {
      "name": "python3",
      "display_name": "Python 3"
    },
    "language_info": {
      "name": "python"
    }
  },
  "cells": [
    {
      "cell_type": "markdown",
      "metadata": {
        "id": "view-in-github",
        "colab_type": "text"
      },
      "source": [
        "<a href=\"https://colab.research.google.com/github/2303A52046/2303A52046-P-S/blob/main/2303A52046(ps_w07).ipynb\" target=\"_parent\"><img src=\"https://colab.research.google.com/assets/colab-badge.svg\" alt=\"Open In Colab\"/></a>"
      ]
    },
    {
      "cell_type": "code",
      "execution_count": 1,
      "metadata": {
        "colab": {
          "base_uri": "https://localhost:8080/"
        },
        "id": "Iw71Maj7qORL",
        "outputId": "aa2527af-72a0-443f-cf66-bf3fcb4e46e6"
      },
      "outputs": [
        {
          "output_type": "stream",
          "name": "stdout",
          "text": [
            "Sample Mean: ₹27466.67\n",
            "Sample Standard Deviation: ₹3748.65\n",
            "95% Confidence Interval: ₹25390.73 to ₹29542.60\n",
            "Hypothesis Test Decision: Reject H₀: Significant difference from ₹30,000.\n"
          ]
        }
      ],
      "source": [
        "import numpy as np\n",
        "import scipy.stats as stats\n",
        "\n",
        "# Given sample data (monthly living costs in ₹)\n",
        "data = [25000, 31000, 20000, 28000, 29500, 32000, 21000, 30500, 27000, 28500, 30000, 23000, 31000, 26000, 29500]\n",
        "\n",
        "# Step 1: Compute sample statistics\n",
        "sample_mean = np.mean(data)  # Sample mean\n",
        "sample_std = np.std(data, ddof=1)  # Sample standard deviation (unbiased estimator)\n",
        "n = len(data)  # Sample size\n",
        "\n",
        "# Step 2: Compute the 95% Confidence Interval\n",
        "confidence_level = 0.95\n",
        "alpha = 1 - confidence_level  # Significance level\n",
        "t_critical = stats.t.ppf(1 - alpha/2, df=n-1)  # t-critical value for two-tailed test\n",
        "\n",
        "# Margin of Error\n",
        "margin_of_error = t_critical * (sample_std / np.sqrt(n))\n",
        "confidence_interval = (sample_mean - margin_of_error, sample_mean + margin_of_error)\n",
        "\n",
        "# Step 3: Hypothesis Test Assessment\n",
        "hypothesized_mean = 30000\n",
        "if hypothesized_mean >= confidence_interval[0] and hypothesized_mean <= confidence_interval[1]:\n",
        "    decision = \"Fail to reject H₀: No significant difference from ₹30,000.\"\n",
        "else:\n",
        "    decision = \"Reject H₀: Significant difference from ₹30,000.\"\n",
        "\n",
        "# Print results\n",
        "print(f\"Sample Mean: ₹{sample_mean:.2f}\")\n",
        "print(f\"Sample Standard Deviation: ₹{sample_std:.2f}\")\n",
        "print(f\"95% Confidence Interval: ₹{confidence_interval[0]:.2f} to ₹{confidence_interval[1]:.2f}\")\n",
        "print(f\"Hypothesis Test Decision: {decision}\")"
      ]
    }
  ]
}