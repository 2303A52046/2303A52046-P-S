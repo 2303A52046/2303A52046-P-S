{
  "nbformat": 4,
  "nbformat_minor": 0,
  "metadata": {
    "colab": {
      "provenance": [],
      "authorship_tag": "ABX9TyPLkwWkBDcA0mvP7OqiYyCS",
      "include_colab_link": true
    },
    "kernelspec": {
      "name": "python3",
      "display_name": "Python 3"
    },
    "language_info": {
      "name": "python"
    }
  },
  "cells": [
    {
      "cell_type": "markdown",
      "metadata": {
        "id": "view-in-github",
        "colab_type": "text"
      },
      "source": [
        "<a href=\"https://colab.research.google.com/github/2303A52046/2303A52046-P-S/blob/main/2303A52046_p_s(w_09).ipynb\" target=\"_parent\"><img src=\"https://colab.research.google.com/assets/colab-badge.svg\" alt=\"Open In Colab\"/></a>"
      ]
    },
    {
      "cell_type": "code",
      "execution_count": 1,
      "metadata": {
        "colab": {
          "base_uri": "https://localhost:8080/"
        },
        "id": "Y5ZdvIQg59Ux",
        "outputId": "9a261e16-b279-428f-d1a9-bc51368112f8"
      },
      "outputs": [
        {
          "output_type": "stream",
          "name": "stdout",
          "text": [
            "T-Statistic: 13.547440957563675\n",
            "P-Value: 6.995490069303675e-11\n",
            "There is a significant difference in average daily water intake between the two groups.\n"
          ]
        }
      ],
      "source": [
        "import scipy.stats as stats\n",
        "\n",
        "# Data for each group\n",
        "group_A = [2.8, 3.1, 3.0, 2.5, 3.2, 3.0, 3.3, 2.7, 2.9, 3.0]\n",
        "group_B = [1.5, 1.7, 1.6, 1.9, 2.0, 1.8, 1.7, 1.6, 1.8, 1.5]\n",
        "\n",
        "# Perform the two-sample independent t-test\n",
        "t_statistic, p_value = stats.ttest_ind(group_A, group_B)\n",
        "\n",
        "# Print the results\n",
        "print(\"T-Statistic:\", t_statistic)\n",
        "print(\"P-Value:\", p_value)\n",
        "\n",
        "# Determine significance\n",
        "alpha = 0.05  # Level of significance\n",
        "if p_value < alpha:\n",
        "    print(\"There is a significant difference in average daily water intake between the two groups.\")\n",
        "else:\n",
        "    print(\"There is no significant difference in average daily water intake between the two groups.\")"
      ]
    },
    {
      "cell_type": "code",
      "source": [
        "import scipy.stats as stats\n",
        "\n",
        "# Data for each group\n",
        "group_A = [7, 8, 6, 9, 10, 8, 7, 6, 8, 9]  # Daily Workout Routine\n",
        "group_B = [3, 4, 2, 3, 5, 4, 3, 2, 4, 3]   # No Regular Workout Routine\n",
        "\n",
        "# Perform the two-sample independent t-test\n",
        "t_statistic, p_value = stats.ttest_ind(group_A, group_B)\n",
        "\n",
        "# Print the results\n",
        "print(\"T-Statistic:\", t_statistic)\n",
        "print(\"P-Value:\", p_value)\n",
        "\n",
        "# Determine significance\n",
        "alpha = 0.05  # Level of significance\n",
        "if p_value < alpha:\n",
        "    print(\"There is a significant difference in average hours spent exercising per week between the two groups.\")\n",
        "else:\n",
        "    print(\"There is no significant difference in average hours spent exercising per week between the two groups.\")"
      ],
      "metadata": {
        "colab": {
          "base_uri": "https://localhost:8080/"
        },
        "id": "wHbTk7ks6bad",
        "outputId": "5093de75-7936-4541-f980-a9020e78eca0"
      },
      "execution_count": 2,
      "outputs": [
        {
          "output_type": "stream",
          "name": "stdout",
          "text": [
            "T-Statistic: 8.769192333232017\n",
            "P-Value: 6.472889338915934e-08\n",
            "There is a significant difference in average hours spent exercising per week between the two groups.\n"
          ]
        }
      ]
    },
    {
      "cell_type": "code",
      "source": [
        "import scipy.stats as stats\n",
        "\n",
        "# Data for each group\n",
        "group_X = [4, 5, 6, 3, 5, 6, 4, 5, 7, 6]  # Regular Book Readers\n",
        "group_Y = [1, 2, 3, 2, 1, 4, 2, 1, 3, 2]  # Non-Regular Book Readers\n",
        "\n",
        "# Perform the two-sample independent t-test\n",
        "t_statistic, p_value = stats.ttest_ind(group_X, group_Y)\n",
        "\n",
        "# Print the results\n",
        "print(\"T-Statistic:\", t_statistic)\n",
        "print(\"P-Value:\", p_value)\n",
        "\n",
        "# Determine significance\n",
        "alpha = 0.05  # Level of significance\n",
        "if p_value < alpha:\n",
        "    print(\"There is a significant difference in average hours spent reading books per week between the two groups.\")\n",
        "else:\n",
        "    print(\"There is no significant difference in average hours spent reading books per week between the two groups.\")"
      ],
      "metadata": {
        "colab": {
          "base_uri": "https://localhost:8080/"
        },
        "id": "OvrBakmv6dMY",
        "outputId": "d4984cfa-9082-4db4-b0b7-10aad0e6e398"
      },
      "execution_count": 3,
      "outputs": [
        {
          "output_type": "stream",
          "name": "stdout",
          "text": [
            "T-Statistic: 6.095569153307365\n",
            "P-Value: 9.27205847240625e-06\n",
            "There is a significant difference in average hours spent reading books per week between the two groups.\n"
          ]
        }
      ]
    }
  ]
}